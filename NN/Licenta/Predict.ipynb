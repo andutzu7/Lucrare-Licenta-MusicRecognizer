{
 "cells": [
  {
   "cell_type": "code",
   "execution_count": 1,
   "id": "social-convenience",
   "metadata": {},
   "outputs": [
    {
     "name": "stdout",
     "output_type": "stream",
     "text": [
      "INFO:tensorflow:Enabling eager execution\n",
      "INFO:tensorflow:Enabling v2 tensorshape\n",
      "INFO:tensorflow:Enabling resource variables\n",
      "INFO:tensorflow:Enabling tensor equality\n",
      "INFO:tensorflow:Enabling control flow v2\n"
     ]
    }
   ],
   "source": [
    "from tensorflow.keras.models import load_model\n",
    "from kapre.time_frequency import STFT, Magnitude, ApplyFilterbank, MagnitudeToDecibel\n",
    "from sklearn.preprocessing import LabelEncoder\n",
    "import numpy as np\n",
    "from clean import envelope,downsample_mono\n",
    "from glob import glob\n",
    "import argparse\n",
    "import wavio\n",
    "import os\n",
    "import pandas as pd\n",
    "from tqdm import tqdm"
   ]
  },
  {
   "cell_type": "code",
   "execution_count": 2,
   "id": "turned-stand",
   "metadata": {},
   "outputs": [],
   "source": [
    "def make_prediction(args):\n",
    "\n",
    "    model = load_model(args.model_fn,\n",
    "        custom_objects={'STFT':STFT,\n",
    "                        'Magnitude':Magnitude,\n",
    "                        'ApplyFilterbank':ApplyFilterbank,\n",
    "                        'MagnitudeToDecibel':MagnitudeToDecibel})\n",
    "    wav_paths = glob('{}/**'.format(args.src_dir), recursive=True)\n",
    "    wav_paths = sorted([x.replace(os.sep, '/') for x in wav_paths if '.wav' in x])\n",
    "    classes = ['Other','Piano']\n",
    "    labels = [os.path.split(x)[0].split('/')[-1] for x in wav_paths]\n",
    "    le = LabelEncoder()\n",
    "    y_true = le.fit_transform(labels)\n",
    "    results = []\n",
    "\n",
    "    for z, wav_fn in tqdm(enumerate(wav_paths), total=len(wav_paths)):\n",
    "        rate, wav = downsample_mono(wav_fn, args.sr)\n",
    "        mask, env = envelope(wav, rate, threshold=args.threshold)\n",
    "        clean_wav = wav[mask]\n",
    "        step = int(args.sr*args.dt)\n",
    "        batch = []\n",
    "\n",
    "        for i in range(0, clean_wav.shape[0], step):\n",
    "            sample = clean_wav[i:i+step]\n",
    "            sample = sample.reshape(-1, 1)\n",
    "            if sample.shape[0] < step:\n",
    "                tmp = np.zeros(shape=(step, 1), dtype=np.float32)\n",
    "                tmp[:sample.shape[0],:] = sample.flatten().reshape(-1, 1)\n",
    "                sample = tmp\n",
    "            batch.append(sample)\n",
    "        X_batch = np.array(batch, dtype=np.float32)\n",
    "        y_pred = model.predict(X_batch)\n",
    "        y_mean = np.mean(y_pred, axis=0)\n",
    "        y_pred = np.argmax(y_mean)\n",
    "        real_class = os.path.dirname(wav_fn).split('/')[-1]\n",
    "        print('Actual class: {}, Predicted class: {}'.format(real_class, classes[y_pred]))\n",
    "        results.append(y_mean)\n",
    "\n",
    "    np.save(os.path.join('logs', args.pred_fn), np.array(results))"
   ]
  },
  {
   "cell_type": "code",
   "execution_count": 3,
   "id": "moral-graduate",
   "metadata": {},
   "outputs": [
    {
     "name": "stdout",
     "output_type": "stream",
     "text": [
      "Namespace(model_fn='models/lstm.h5', pred_fn='y_pred', src_dir='test', dt=1.0, sr=16000, threshold=20)\n"
     ]
    },
    {
     "name": "stderr",
     "output_type": "stream",
     "text": [
      "  1%|          | 3/394 [00:01<02:40,  2.43it/s]"
     ]
    },
    {
     "name": "stdout",
     "output_type": "stream",
     "text": [
      "Actual class: Other, Predicted class: Other\n",
      "Actual class: Other, Predicted class: Other\n",
      "Actual class: Other, Predicted class: Other\n"
     ]
    },
    {
     "name": "stderr",
     "output_type": "stream",
     "text": [
      "  2%|▏         | 6/394 [00:01<01:17,  5.03it/s]"
     ]
    },
    {
     "name": "stdout",
     "output_type": "stream",
     "text": [
      "Actual class: Other, Predicted class: Other\n",
      "Actual class: Other, Predicted class: Other\n",
      "Actual class: Other, Predicted class: Other\n"
     ]
    },
    {
     "name": "stderr",
     "output_type": "stream",
     "text": [
      "  2%|▏         | 8/394 [00:01<00:59,  6.53it/s]"
     ]
    },
    {
     "name": "stdout",
     "output_type": "stream",
     "text": [
      "Actual class: Other, Predicted class: Other\n",
      "Actual class: Other, Predicted class: Other\n",
      "Actual class: Other, Predicted class: Other\n"
     ]
    },
    {
     "name": "stderr",
     "output_type": "stream",
     "text": [
      "  3%|▎         | 12/394 [00:02<00:42,  9.05it/s]"
     ]
    },
    {
     "name": "stdout",
     "output_type": "stream",
     "text": [
      "Actual class: Other, Predicted class: Other\n",
      "Actual class: Other, Predicted class: Other\n",
      "Actual class: Other, Predicted class: Other\n"
     ]
    },
    {
     "name": "stderr",
     "output_type": "stream",
     "text": [
      "  4%|▎         | 14/394 [00:02<00:39,  9.74it/s]"
     ]
    },
    {
     "name": "stdout",
     "output_type": "stream",
     "text": [
      "Actual class: Other, Predicted class: Other\n",
      "Actual class: Other, Predicted class: Other\n",
      "Actual class: Other, Predicted class: Other\n"
     ]
    },
    {
     "name": "stderr",
     "output_type": "stream",
     "text": [
      "  5%|▍         | 18/394 [00:02<00:34, 10.91it/s]"
     ]
    },
    {
     "name": "stdout",
     "output_type": "stream",
     "text": [
      "Actual class: Other, Predicted class: Other\n",
      "Actual class: Other, Predicted class: Other\n",
      "Actual class: Other, Predicted class: Other\n"
     ]
    },
    {
     "name": "stderr",
     "output_type": "stream",
     "text": [
      "  5%|▌         | 20/394 [00:02<00:33, 11.19it/s]"
     ]
    },
    {
     "name": "stdout",
     "output_type": "stream",
     "text": [
      "Actual class: Other, Predicted class: Other\n",
      "Actual class: Other, Predicted class: Other\n"
     ]
    },
    {
     "name": "stderr",
     "output_type": "stream",
     "text": [
      "  6%|▌         | 22/394 [00:03<00:39,  9.36it/s]"
     ]
    },
    {
     "name": "stdout",
     "output_type": "stream",
     "text": [
      "Actual class: Other, Predicted class: Other\n",
      "Actual class: Other, Predicted class: Other\n",
      "Actual class: Other, Predicted class: Other\n"
     ]
    },
    {
     "name": "stderr",
     "output_type": "stream",
     "text": [
      "  7%|▋         | 26/394 [00:03<00:33, 10.82it/s]"
     ]
    },
    {
     "name": "stdout",
     "output_type": "stream",
     "text": [
      "Actual class: Other, Predicted class: Other\n",
      "Actual class: Other, Predicted class: Other\n",
      "Actual class: Other, Predicted class: Other\n"
     ]
    },
    {
     "name": "stderr",
     "output_type": "stream",
     "text": [
      "  7%|▋         | 28/394 [00:03<00:33, 11.01it/s]"
     ]
    },
    {
     "name": "stdout",
     "output_type": "stream",
     "text": [
      "Actual class: Other, Predicted class: Other\n",
      "Actual class: Other, Predicted class: Other\n",
      "Actual class: Other, Predicted class: Other\n"
     ]
    },
    {
     "name": "stderr",
     "output_type": "stream",
     "text": [
      "  8%|▊         | 32/394 [00:04<00:32, 11.24it/s]"
     ]
    },
    {
     "name": "stdout",
     "output_type": "stream",
     "text": [
      "Actual class: Other, Predicted class: Other\n",
      "Actual class: Other, Predicted class: Other\n",
      "Actual class: Other, Predicted class: Other\n"
     ]
    },
    {
     "name": "stderr",
     "output_type": "stream",
     "text": [
      "  9%|▊         | 34/394 [00:04<00:32, 11.20it/s]"
     ]
    },
    {
     "name": "stdout",
     "output_type": "stream",
     "text": [
      "Actual class: Other, Predicted class: Other\n",
      "Actual class: Other, Predicted class: Other\n",
      "Actual class: Other, Predicted class: Other\n"
     ]
    },
    {
     "name": "stderr",
     "output_type": "stream",
     "text": [
      "  9%|▉         | 36/394 [00:04<00:34, 10.39it/s]"
     ]
    },
    {
     "name": "stdout",
     "output_type": "stream",
     "text": [
      "Actual class: Other, Predicted class: Other\n",
      "Actual class: Other, Predicted class: Other\n"
     ]
    },
    {
     "name": "stderr",
     "output_type": "stream",
     "text": [
      " 10%|▉         | 38/394 [00:04<00:36,  9.85it/s]"
     ]
    },
    {
     "name": "stdout",
     "output_type": "stream",
     "text": [
      "Actual class: Other, Predicted class: Other\n",
      "Actual class: Other, Predicted class: Other\n"
     ]
    },
    {
     "name": "stderr",
     "output_type": "stream",
     "text": [
      " 10%|█         | 41/394 [00:05<00:38,  9.19it/s]"
     ]
    },
    {
     "name": "stdout",
     "output_type": "stream",
     "text": [
      "Actual class: Other, Predicted class: Other\n",
      "Actual class: Other, Predicted class: Other\n"
     ]
    },
    {
     "name": "stderr",
     "output_type": "stream",
     "text": [
      " 11%|█         | 44/394 [00:05<00:34, 10.28it/s]"
     ]
    },
    {
     "name": "stdout",
     "output_type": "stream",
     "text": [
      "Actual class: Other, Predicted class: Other\n",
      "Actual class: Other, Predicted class: Other\n",
      "Actual class: Other, Predicted class: Other\n"
     ]
    },
    {
     "name": "stderr",
     "output_type": "stream",
     "text": [
      " 12%|█▏        | 46/394 [00:05<00:32, 10.60it/s]"
     ]
    },
    {
     "name": "stdout",
     "output_type": "stream",
     "text": [
      "Actual class: Other, Predicted class: Other\n",
      "Actual class: Other, Predicted class: Other\n",
      "Actual class: Other, Predicted class: Other\n"
     ]
    },
    {
     "name": "stderr",
     "output_type": "stream",
     "text": [
      " 13%|█▎        | 50/394 [00:05<00:30, 11.15it/s]"
     ]
    },
    {
     "name": "stdout",
     "output_type": "stream",
     "text": [
      "Actual class: Other, Predicted class: Other\n",
      "Actual class: Other, Predicted class: Other\n",
      "Actual class: Other, Predicted class: Other\n"
     ]
    },
    {
     "name": "stderr",
     "output_type": "stream",
     "text": [
      " 13%|█▎        | 52/394 [00:06<00:30, 11.26it/s]"
     ]
    },
    {
     "name": "stdout",
     "output_type": "stream",
     "text": [
      "Actual class: Other, Predicted class: Other\n",
      "Actual class: Other, Predicted class: Other\n",
      "Actual class: Other, Predicted class: Other\n"
     ]
    },
    {
     "name": "stderr",
     "output_type": "stream",
     "text": [
      " 14%|█▍        | 56/394 [00:06<00:29, 11.57it/s]"
     ]
    },
    {
     "name": "stdout",
     "output_type": "stream",
     "text": [
      "Actual class: Other, Predicted class: Other\n",
      "Actual class: Other, Predicted class: Other\n",
      "Actual class: Other, Predicted class: Other\n"
     ]
    },
    {
     "name": "stderr",
     "output_type": "stream",
     "text": [
      " 15%|█▍        | 58/394 [00:06<00:28, 11.79it/s]"
     ]
    },
    {
     "name": "stdout",
     "output_type": "stream",
     "text": [
      "Actual class: Other, Predicted class: Other\n",
      "Actual class: Other, Predicted class: Other\n",
      "Actual class: Other, Predicted class: Other\n"
     ]
    },
    {
     "name": "stderr",
     "output_type": "stream",
     "text": [
      " 16%|█▌        | 62/394 [00:06<00:28, 11.68it/s]"
     ]
    },
    {
     "name": "stdout",
     "output_type": "stream",
     "text": [
      "Actual class: Other, Predicted class: Other\n",
      "Actual class: Other, Predicted class: Other\n",
      "Actual class: Other, Predicted class: Other\n"
     ]
    },
    {
     "name": "stderr",
     "output_type": "stream",
     "text": [
      " 16%|█▌        | 64/394 [00:07<00:28, 11.72it/s]"
     ]
    },
    {
     "name": "stdout",
     "output_type": "stream",
     "text": [
      "Actual class: Other, Predicted class: Other\n",
      "Actual class: Other, Predicted class: Other\n",
      "Actual class: Other, Predicted class: Other\n"
     ]
    },
    {
     "name": "stderr",
     "output_type": "stream",
     "text": [
      " 17%|█▋        | 68/394 [00:07<00:28, 11.57it/s]"
     ]
    },
    {
     "name": "stdout",
     "output_type": "stream",
     "text": [
      "Actual class: Other, Predicted class: Other\n",
      "Actual class: Other, Predicted class: Other\n",
      "Actual class: Other, Predicted class: Other\n"
     ]
    },
    {
     "name": "stderr",
     "output_type": "stream",
     "text": [
      " 18%|█▊        | 70/394 [00:07<00:29, 10.96it/s]"
     ]
    },
    {
     "name": "stdout",
     "output_type": "stream",
     "text": [
      "Actual class: Other, Predicted class: Other\n",
      "Actual class: Other, Predicted class: Other\n",
      "Actual class: Other, Predicted class: Other\n"
     ]
    },
    {
     "name": "stderr",
     "output_type": "stream",
     "text": [
      " 19%|█▉        | 74/394 [00:07<00:27, 11.67it/s]"
     ]
    },
    {
     "name": "stdout",
     "output_type": "stream",
     "text": [
      "Actual class: Other, Predicted class: Other\n",
      "Actual class: Other, Predicted class: Other\n",
      "Actual class: Other, Predicted class: Other\n"
     ]
    },
    {
     "name": "stderr",
     "output_type": "stream",
     "text": [
      " 19%|█▉        | 76/394 [00:08<00:26, 11.97it/s]"
     ]
    },
    {
     "name": "stdout",
     "output_type": "stream",
     "text": [
      "Actual class: Other, Predicted class: Other\n",
      "Actual class: Other, Predicted class: Other\n",
      "Actual class: Other, Predicted class: Other\n"
     ]
    },
    {
     "name": "stderr",
     "output_type": "stream",
     "text": [
      " 20%|██        | 80/394 [00:08<00:27, 11.38it/s]"
     ]
    },
    {
     "name": "stdout",
     "output_type": "stream",
     "text": [
      "Actual class: Other, Predicted class: Other\n",
      "Actual class: Other, Predicted class: Other\n",
      "Actual class: Other, Predicted class: Other\n"
     ]
    },
    {
     "name": "stderr",
     "output_type": "stream",
     "text": [
      " 21%|██        | 82/394 [00:08<00:27, 11.45it/s]"
     ]
    },
    {
     "name": "stdout",
     "output_type": "stream",
     "text": [
      "Actual class: Other, Predicted class: Other\n",
      "Actual class: Other, Predicted class: Other\n",
      "Actual class: Other, Predicted class: Other\n"
     ]
    },
    {
     "name": "stderr",
     "output_type": "stream",
     "text": [
      " 21%|██▏       | 84/394 [00:08<00:27, 11.42it/s]"
     ]
    },
    {
     "name": "stdout",
     "output_type": "stream",
     "text": [
      "Actual class: Other, Predicted class: Other\n"
     ]
    },
    {
     "name": "stderr",
     "output_type": "stream",
     "text": [
      " 22%|██▏       | 86/394 [00:09<00:35,  8.68it/s]"
     ]
    },
    {
     "name": "stdout",
     "output_type": "stream",
     "text": [
      "Actual class: Other, Predicted class: Other\n",
      "Actual class: Other, Predicted class: Other\n",
      "Actual class: Other, Predicted class: Other\n"
     ]
    },
    {
     "name": "stderr",
     "output_type": "stream",
     "text": [
      " 23%|██▎       | 90/394 [00:09<00:30,  9.91it/s]"
     ]
    },
    {
     "name": "stdout",
     "output_type": "stream",
     "text": [
      "Actual class: Other, Predicted class: Other\n",
      "Actual class: Other, Predicted class: Other\n",
      "Actual class: Other, Predicted class: Other\n"
     ]
    },
    {
     "name": "stderr",
     "output_type": "stream",
     "text": [
      " 23%|██▎       | 92/394 [00:09<00:28, 10.51it/s]"
     ]
    },
    {
     "name": "stdout",
     "output_type": "stream",
     "text": [
      "Actual class: Other, Predicted class: Other\n",
      "Actual class: Other, Predicted class: Other\n",
      "Actual class: Other, Predicted class: Other\n"
     ]
    },
    {
     "name": "stderr",
     "output_type": "stream",
     "text": [
      " 24%|██▍       | 96/394 [00:10<00:26, 11.34it/s]"
     ]
    },
    {
     "name": "stdout",
     "output_type": "stream",
     "text": [
      "Actual class: Other, Predicted class: Other\n",
      "Actual class: Other, Predicted class: Other\n",
      "Actual class: Other, Predicted class: Other\n"
     ]
    },
    {
     "name": "stderr",
     "output_type": "stream",
     "text": [
      " 25%|██▍       | 98/394 [00:10<00:25, 11.39it/s]"
     ]
    },
    {
     "name": "stdout",
     "output_type": "stream",
     "text": [
      "Actual class: Other, Predicted class: Piano\n",
      "Actual class: Other, Predicted class: Other\n",
      "Actual class: Other, Predicted class: Piano\n"
     ]
    },
    {
     "name": "stderr",
     "output_type": "stream",
     "text": [
      " 26%|██▌       | 102/394 [00:10<00:24, 11.74it/s]"
     ]
    },
    {
     "name": "stdout",
     "output_type": "stream",
     "text": [
      "Actual class: Other, Predicted class: Other\n",
      "Actual class: Other, Predicted class: Other\n",
      "Actual class: Other, Predicted class: Other\n"
     ]
    },
    {
     "name": "stderr",
     "output_type": "stream",
     "text": [
      " 26%|██▋       | 104/394 [00:10<00:24, 11.70it/s]"
     ]
    },
    {
     "name": "stdout",
     "output_type": "stream",
     "text": [
      "Actual class: Other, Predicted class: Other\n",
      "Actual class: Other, Predicted class: Other\n"
     ]
    },
    {
     "name": "stderr",
     "output_type": "stream",
     "text": [
      " 27%|██▋       | 106/394 [00:10<00:27, 10.39it/s]"
     ]
    },
    {
     "name": "stdout",
     "output_type": "stream",
     "text": [
      "Actual class: Other, Predicted class: Other\n",
      "Actual class: Other, Predicted class: Other\n",
      "Actual class: Other, Predicted class: Other\n"
     ]
    },
    {
     "name": "stderr",
     "output_type": "stream",
     "text": [
      " 28%|██▊       | 110/394 [00:11<00:25, 11.00it/s]"
     ]
    },
    {
     "name": "stdout",
     "output_type": "stream",
     "text": [
      "Actual class: Other, Predicted class: Other\n",
      "Actual class: Other, Predicted class: Other\n",
      "Actual class: Other, Predicted class: Other\n"
     ]
    },
    {
     "name": "stderr",
     "output_type": "stream",
     "text": [
      " 28%|██▊       | 112/394 [00:11<00:24, 11.58it/s]"
     ]
    },
    {
     "name": "stdout",
     "output_type": "stream",
     "text": [
      "Actual class: Other, Predicted class: Other\n",
      "Actual class: Other, Predicted class: Other\n",
      "Actual class: Other, Predicted class: Other\n"
     ]
    },
    {
     "name": "stderr",
     "output_type": "stream",
     "text": [
      " 29%|██▉       | 116/394 [00:11<00:24, 11.56it/s]"
     ]
    },
    {
     "name": "stdout",
     "output_type": "stream",
     "text": [
      "Actual class: Other, Predicted class: Other\n",
      "Actual class: Other, Predicted class: Other\n",
      "Actual class: Other, Predicted class: Other\n"
     ]
    },
    {
     "name": "stderr",
     "output_type": "stream",
     "text": [
      " 30%|██▉       | 118/394 [00:11<00:23, 11.58it/s]"
     ]
    },
    {
     "name": "stdout",
     "output_type": "stream",
     "text": [
      "Actual class: Other, Predicted class: Other\n",
      "Actual class: Other, Predicted class: Other\n",
      "Actual class: Other, Predicted class: Other\n"
     ]
    },
    {
     "name": "stderr",
     "output_type": "stream",
     "text": [
      " 31%|███       | 122/394 [00:12<00:23, 11.38it/s]"
     ]
    },
    {
     "name": "stdout",
     "output_type": "stream",
     "text": [
      "Actual class: Other, Predicted class: Other\n",
      "Actual class: Other, Predicted class: Other\n",
      "Actual class: Other, Predicted class: Other\n"
     ]
    },
    {
     "name": "stderr",
     "output_type": "stream",
     "text": [
      " 31%|███▏      | 124/394 [00:12<00:24, 11.14it/s]"
     ]
    },
    {
     "name": "stdout",
     "output_type": "stream",
     "text": [
      "Actual class: Other, Predicted class: Other\n",
      "Actual class: Other, Predicted class: Other\n",
      "Actual class: Other, Predicted class: Other\n"
     ]
    },
    {
     "name": "stderr",
     "output_type": "stream",
     "text": [
      " 32%|███▏      | 128/394 [00:12<00:23, 11.48it/s]"
     ]
    },
    {
     "name": "stdout",
     "output_type": "stream",
     "text": [
      "Actual class: Other, Predicted class: Other\n",
      "Actual class: Other, Predicted class: Other\n",
      "Actual class: Other, Predicted class: Other\n"
     ]
    },
    {
     "name": "stderr",
     "output_type": "stream",
     "text": [
      " 33%|███▎      | 130/394 [00:13<00:22, 11.77it/s]"
     ]
    },
    {
     "name": "stdout",
     "output_type": "stream",
     "text": [
      "Actual class: Other, Predicted class: Other\n",
      "Actual class: Other, Predicted class: Other\n",
      "Actual class: Other, Predicted class: Other\n"
     ]
    },
    {
     "name": "stderr",
     "output_type": "stream",
     "text": [
      " 34%|███▍      | 134/394 [00:13<00:21, 12.00it/s]"
     ]
    },
    {
     "name": "stdout",
     "output_type": "stream",
     "text": [
      "Actual class: Other, Predicted class: Other\n",
      "Actual class: Other, Predicted class: Other\n",
      "Actual class: Other, Predicted class: Other\n"
     ]
    },
    {
     "name": "stderr",
     "output_type": "stream",
     "text": [
      " 35%|███▍      | 136/394 [00:13<00:21, 12.14it/s]"
     ]
    },
    {
     "name": "stdout",
     "output_type": "stream",
     "text": [
      "Actual class: Other, Predicted class: Other\n",
      "Actual class: Other, Predicted class: Other\n",
      "Actual class: Other, Predicted class: Other\n"
     ]
    },
    {
     "name": "stderr",
     "output_type": "stream",
     "text": [
      " 36%|███▌      | 140/394 [00:13<00:20, 12.16it/s]"
     ]
    },
    {
     "name": "stdout",
     "output_type": "stream",
     "text": [
      "Actual class: Other, Predicted class: Other\n",
      "Actual class: Other, Predicted class: Other\n",
      "Actual class: Other, Predicted class: Other\n"
     ]
    },
    {
     "name": "stderr",
     "output_type": "stream",
     "text": [
      " 36%|███▌      | 142/394 [00:13<00:20, 12.30it/s]"
     ]
    },
    {
     "name": "stdout",
     "output_type": "stream",
     "text": [
      "Actual class: Other, Predicted class: Other\n",
      "Actual class: Other, Predicted class: Other\n",
      "Actual class: Other, Predicted class: Other\n"
     ]
    },
    {
     "name": "stderr",
     "output_type": "stream",
     "text": [
      " 37%|███▋      | 146/394 [00:14<00:19, 12.82it/s]"
     ]
    },
    {
     "name": "stdout",
     "output_type": "stream",
     "text": [
      "Actual class: Other, Predicted class: Other\n",
      "Actual class: Other, Predicted class: Other\n",
      "Actual class: Other, Predicted class: Other\n"
     ]
    },
    {
     "name": "stderr",
     "output_type": "stream",
     "text": [
      " 38%|███▊      | 148/394 [00:14<00:19, 12.33it/s]"
     ]
    },
    {
     "name": "stdout",
     "output_type": "stream",
     "text": [
      "Actual class: Other, Predicted class: Other\n",
      "Actual class: Other, Predicted class: Other\n",
      "Actual class: Other, Predicted class: Other\n"
     ]
    },
    {
     "name": "stderr",
     "output_type": "stream",
     "text": [
      " 39%|███▊      | 152/394 [00:14<00:18, 12.74it/s]"
     ]
    },
    {
     "name": "stdout",
     "output_type": "stream",
     "text": [
      "Actual class: Other, Predicted class: Other\n",
      "Actual class: Other, Predicted class: Other\n",
      "Actual class: Other, Predicted class: Other\n"
     ]
    },
    {
     "name": "stderr",
     "output_type": "stream",
     "text": [
      " 39%|███▉      | 154/394 [00:14<00:18, 12.94it/s]"
     ]
    },
    {
     "name": "stdout",
     "output_type": "stream",
     "text": [
      "Actual class: Other, Predicted class: Other\n",
      "Actual class: Other, Predicted class: Other\n",
      "Actual class: Other, Predicted class: Other\n"
     ]
    },
    {
     "name": "stderr",
     "output_type": "stream",
     "text": [
      " 40%|████      | 158/394 [00:15<00:18, 12.49it/s]"
     ]
    },
    {
     "name": "stdout",
     "output_type": "stream",
     "text": [
      "Actual class: Other, Predicted class: Other\n",
      "Actual class: Other, Predicted class: Other\n",
      "Actual class: Other, Predicted class: Other\n"
     ]
    },
    {
     "name": "stderr",
     "output_type": "stream",
     "text": [
      " 41%|████      | 160/394 [00:15<00:18, 12.39it/s]"
     ]
    },
    {
     "name": "stdout",
     "output_type": "stream",
     "text": [
      "Actual class: Other, Predicted class: Other\n",
      "Actual class: Other, Predicted class: Other\n",
      "Actual class: Other, Predicted class: Other\n"
     ]
    },
    {
     "name": "stderr",
     "output_type": "stream",
     "text": [
      " 42%|████▏     | 164/394 [00:15<00:18, 12.49it/s]"
     ]
    },
    {
     "name": "stdout",
     "output_type": "stream",
     "text": [
      "Actual class: Other, Predicted class: Other\n",
      "Actual class: Other, Predicted class: Other\n",
      "Actual class: Other, Predicted class: Other\n"
     ]
    },
    {
     "name": "stderr",
     "output_type": "stream",
     "text": [
      " 42%|████▏     | 166/394 [00:15<00:18, 12.46it/s]"
     ]
    },
    {
     "name": "stdout",
     "output_type": "stream",
     "text": [
      "Actual class: Other, Predicted class: Other\n",
      "Actual class: Other, Predicted class: Other\n",
      "Actual class: Other, Predicted class: Other\n"
     ]
    },
    {
     "name": "stderr",
     "output_type": "stream",
     "text": [
      " 43%|████▎     | 170/394 [00:16<00:18, 12.35it/s]"
     ]
    },
    {
     "name": "stdout",
     "output_type": "stream",
     "text": [
      "Actual class: Other, Predicted class: Other\n",
      "Actual class: Other, Predicted class: Other\n",
      "Actual class: Other, Predicted class: Other\n"
     ]
    },
    {
     "name": "stderr",
     "output_type": "stream",
     "text": [
      " 44%|████▎     | 172/394 [00:16<00:18, 11.86it/s]"
     ]
    },
    {
     "name": "stdout",
     "output_type": "stream",
     "text": [
      "Actual class: Other, Predicted class: Other\n",
      "Actual class: Other, Predicted class: Other\n",
      "Actual class: Other, Predicted class: Other\n"
     ]
    },
    {
     "name": "stderr",
     "output_type": "stream",
     "text": [
      " 45%|████▍     | 176/394 [00:16<00:18, 12.02it/s]"
     ]
    },
    {
     "name": "stdout",
     "output_type": "stream",
     "text": [
      "Actual class: Other, Predicted class: Other\n",
      "Actual class: Other, Predicted class: Other\n",
      "Actual class: Other, Predicted class: Other\n"
     ]
    },
    {
     "name": "stderr",
     "output_type": "stream",
     "text": [
      " 45%|████▌     | 178/394 [00:16<00:17, 12.02it/s]"
     ]
    },
    {
     "name": "stdout",
     "output_type": "stream",
     "text": [
      "Actual class: Other, Predicted class: Other\n",
      "Actual class: Other, Predicted class: Other\n",
      "Actual class: Other, Predicted class: Other\n"
     ]
    },
    {
     "name": "stderr",
     "output_type": "stream",
     "text": [
      " 46%|████▌     | 182/394 [00:17<00:17, 12.04it/s]"
     ]
    },
    {
     "name": "stdout",
     "output_type": "stream",
     "text": [
      "Actual class: Other, Predicted class: Other\n",
      "Actual class: Other, Predicted class: Other\n",
      "Actual class: Other, Predicted class: Other\n"
     ]
    },
    {
     "name": "stderr",
     "output_type": "stream",
     "text": [
      " 47%|████▋     | 184/394 [00:17<00:17, 12.25it/s]"
     ]
    },
    {
     "name": "stdout",
     "output_type": "stream",
     "text": [
      "Actual class: Other, Predicted class: Other\n",
      "Actual class: Other, Predicted class: Other\n",
      "Actual class: Other, Predicted class: Other\n"
     ]
    },
    {
     "name": "stderr",
     "output_type": "stream",
     "text": [
      " 48%|████▊     | 188/394 [00:17<00:17, 12.07it/s]"
     ]
    },
    {
     "name": "stdout",
     "output_type": "stream",
     "text": [
      "Actual class: Other, Predicted class: Other\n",
      "Actual class: Other, Predicted class: Other\n",
      "Actual class: Other, Predicted class: Other\n"
     ]
    },
    {
     "name": "stderr",
     "output_type": "stream",
     "text": [
      " 48%|████▊     | 190/394 [00:17<00:16, 12.22it/s]"
     ]
    },
    {
     "name": "stdout",
     "output_type": "stream",
     "text": [
      "Actual class: Piano, Predicted class: Piano\n",
      "Actual class: Piano, Predicted class: Piano\n",
      "Actual class: Piano, Predicted class: Piano\n"
     ]
    },
    {
     "name": "stderr",
     "output_type": "stream",
     "text": [
      " 49%|████▉     | 194/394 [00:18<00:16, 12.48it/s]"
     ]
    },
    {
     "name": "stdout",
     "output_type": "stream",
     "text": [
      "Actual class: Piano, Predicted class: Other\n",
      "Actual class: Piano, Predicted class: Other\n",
      "Actual class: Piano, Predicted class: Other\n"
     ]
    },
    {
     "name": "stderr",
     "output_type": "stream",
     "text": [
      " 50%|████▉     | 196/394 [00:18<00:15, 12.77it/s]"
     ]
    },
    {
     "name": "stdout",
     "output_type": "stream",
     "text": [
      "Actual class: Piano, Predicted class: Other\n",
      "Actual class: Piano, Predicted class: Other\n",
      "Actual class: Piano, Predicted class: Other\n"
     ]
    },
    {
     "name": "stderr",
     "output_type": "stream",
     "text": [
      " 51%|█████     | 200/394 [00:18<00:15, 12.20it/s]"
     ]
    },
    {
     "name": "stdout",
     "output_type": "stream",
     "text": [
      "Actual class: Piano, Predicted class: Other\n",
      "Actual class: Piano, Predicted class: Other\n",
      "Actual class: Piano, Predicted class: Other\n"
     ]
    },
    {
     "name": "stderr",
     "output_type": "stream",
     "text": [
      " 51%|█████▏    | 202/394 [00:18<00:16, 11.63it/s]"
     ]
    },
    {
     "name": "stdout",
     "output_type": "stream",
     "text": [
      "Actual class: Piano, Predicted class: Other\n",
      "Actual class: Piano, Predicted class: Other\n",
      "Actual class: Piano, Predicted class: Other\n"
     ]
    },
    {
     "name": "stderr",
     "output_type": "stream",
     "text": [
      " 52%|█████▏    | 206/394 [00:19<00:15, 12.12it/s]"
     ]
    },
    {
     "name": "stdout",
     "output_type": "stream",
     "text": [
      "Actual class: Piano, Predicted class: Other\n",
      "Actual class: Piano, Predicted class: Other\n",
      "Actual class: Piano, Predicted class: Other\n"
     ]
    },
    {
     "name": "stderr",
     "output_type": "stream",
     "text": [
      " 53%|█████▎    | 208/394 [00:19<00:15, 12.22it/s]"
     ]
    },
    {
     "name": "stdout",
     "output_type": "stream",
     "text": [
      "Actual class: Piano, Predicted class: Piano\n",
      "Actual class: Piano, Predicted class: Other\n",
      "Actual class: Piano, Predicted class: Other\n"
     ]
    },
    {
     "name": "stderr",
     "output_type": "stream",
     "text": [
      " 54%|█████▍    | 212/394 [00:19<00:15, 11.99it/s]"
     ]
    },
    {
     "name": "stdout",
     "output_type": "stream",
     "text": [
      "Actual class: Piano, Predicted class: Other\n",
      "Actual class: Piano, Predicted class: Other\n",
      "Actual class: Piano, Predicted class: Other\n"
     ]
    },
    {
     "name": "stderr",
     "output_type": "stream",
     "text": [
      " 54%|█████▍    | 214/394 [00:19<00:15, 11.72it/s]"
     ]
    },
    {
     "name": "stdout",
     "output_type": "stream",
     "text": [
      "Actual class: Piano, Predicted class: Other\n",
      "Actual class: Piano, Predicted class: Other\n",
      "Actual class: Piano, Predicted class: Other\n"
     ]
    },
    {
     "name": "stderr",
     "output_type": "stream",
     "text": [
      " 55%|█████▌    | 218/394 [00:20<00:15, 11.36it/s]"
     ]
    },
    {
     "name": "stdout",
     "output_type": "stream",
     "text": [
      "Actual class: Piano, Predicted class: Other\n",
      "Actual class: Piano, Predicted class: Other\n",
      "Actual class: Piano, Predicted class: Other\n"
     ]
    },
    {
     "name": "stderr",
     "output_type": "stream",
     "text": [
      " 56%|█████▌    | 220/394 [00:20<00:14, 11.68it/s]"
     ]
    },
    {
     "name": "stdout",
     "output_type": "stream",
     "text": [
      "Actual class: Piano, Predicted class: Other\n",
      "Actual class: Piano, Predicted class: Other\n",
      "Actual class: Piano, Predicted class: Piano\n"
     ]
    },
    {
     "name": "stderr",
     "output_type": "stream",
     "text": [
      " 57%|█████▋    | 224/394 [00:20<00:13, 12.15it/s]"
     ]
    },
    {
     "name": "stdout",
     "output_type": "stream",
     "text": [
      "Actual class: Piano, Predicted class: Other\n",
      "Actual class: Piano, Predicted class: Other\n",
      "Actual class: Piano, Predicted class: Other\n"
     ]
    },
    {
     "name": "stderr",
     "output_type": "stream",
     "text": [
      " 57%|█████▋    | 226/394 [00:20<00:13, 12.22it/s]"
     ]
    },
    {
     "name": "stdout",
     "output_type": "stream",
     "text": [
      "Actual class: Piano, Predicted class: Other\n",
      "Actual class: Piano, Predicted class: Other\n",
      "Actual class: Piano, Predicted class: Other\n"
     ]
    },
    {
     "name": "stderr",
     "output_type": "stream",
     "text": [
      " 58%|█████▊    | 230/394 [00:21<00:13, 12.18it/s]"
     ]
    },
    {
     "name": "stdout",
     "output_type": "stream",
     "text": [
      "Actual class: Piano, Predicted class: Other\n",
      "Actual class: Piano, Predicted class: Other\n",
      "Actual class: Piano, Predicted class: Other\n"
     ]
    },
    {
     "name": "stderr",
     "output_type": "stream",
     "text": [
      " 59%|█████▉    | 232/394 [00:21<00:13, 11.83it/s]"
     ]
    },
    {
     "name": "stdout",
     "output_type": "stream",
     "text": [
      "Actual class: Piano, Predicted class: Other\n",
      "Actual class: Piano, Predicted class: Other\n"
     ]
    },
    {
     "name": "stderr",
     "output_type": "stream",
     "text": [
      " 59%|█████▉    | 234/394 [00:21<00:14, 11.14it/s]"
     ]
    },
    {
     "name": "stdout",
     "output_type": "stream",
     "text": [
      "Actual class: Piano, Predicted class: Other\n",
      "Actual class: Piano, Predicted class: Other\n",
      "Actual class: Piano, Predicted class: Piano\n"
     ]
    },
    {
     "name": "stderr",
     "output_type": "stream",
     "text": [
      " 60%|██████    | 238/394 [00:21<00:13, 11.83it/s]"
     ]
    },
    {
     "name": "stdout",
     "output_type": "stream",
     "text": [
      "Actual class: Piano, Predicted class: Other\n",
      "Actual class: Piano, Predicted class: Other\n",
      "Actual class: Piano, Predicted class: Other\n"
     ]
    },
    {
     "name": "stderr",
     "output_type": "stream",
     "text": [
      " 61%|██████    | 240/394 [00:22<00:12, 12.10it/s]"
     ]
    },
    {
     "name": "stdout",
     "output_type": "stream",
     "text": [
      "Actual class: Piano, Predicted class: Other\n",
      "Actual class: Piano, Predicted class: Other\n",
      "Actual class: Piano, Predicted class: Other\n"
     ]
    },
    {
     "name": "stderr",
     "output_type": "stream",
     "text": [
      " 62%|██████▏   | 244/394 [00:22<00:12, 12.34it/s]"
     ]
    },
    {
     "name": "stdout",
     "output_type": "stream",
     "text": [
      "Actual class: Piano, Predicted class: Other\n",
      "Actual class: Piano, Predicted class: Other\n",
      "Actual class: Piano, Predicted class: Other\n"
     ]
    },
    {
     "name": "stderr",
     "output_type": "stream",
     "text": [
      " 62%|██████▏   | 246/394 [00:22<00:11, 12.45it/s]"
     ]
    },
    {
     "name": "stdout",
     "output_type": "stream",
     "text": [
      "Actual class: Piano, Predicted class: Other\n",
      "Actual class: Piano, Predicted class: Piano\n",
      "Actual class: Piano, Predicted class: Other\n"
     ]
    },
    {
     "name": "stderr",
     "output_type": "stream",
     "text": [
      " 63%|██████▎   | 250/394 [00:22<00:11, 12.53it/s]"
     ]
    },
    {
     "name": "stdout",
     "output_type": "stream",
     "text": [
      "Actual class: Piano, Predicted class: Other\n",
      "Actual class: Piano, Predicted class: Other\n",
      "Actual class: Piano, Predicted class: Other\n"
     ]
    },
    {
     "name": "stderr",
     "output_type": "stream",
     "text": [
      " 64%|██████▍   | 252/394 [00:23<00:11, 12.52it/s]"
     ]
    },
    {
     "name": "stdout",
     "output_type": "stream",
     "text": [
      "Actual class: Piano, Predicted class: Other\n",
      "Actual class: Piano, Predicted class: Other\n",
      "Actual class: Piano, Predicted class: Other\n"
     ]
    },
    {
     "name": "stderr",
     "output_type": "stream",
     "text": [
      " 65%|██████▍   | 256/394 [00:23<00:11, 12.14it/s]"
     ]
    },
    {
     "name": "stdout",
     "output_type": "stream",
     "text": [
      "Actual class: Piano, Predicted class: Other\n",
      "Actual class: Piano, Predicted class: Other\n",
      "Actual class: Piano, Predicted class: Other\n"
     ]
    },
    {
     "name": "stderr",
     "output_type": "stream",
     "text": [
      " 65%|██████▌   | 258/394 [00:23<00:11, 12.11it/s]"
     ]
    },
    {
     "name": "stdout",
     "output_type": "stream",
     "text": [
      "Actual class: Piano, Predicted class: Piano\n",
      "Actual class: Piano, Predicted class: Other\n",
      "Actual class: Piano, Predicted class: Other\n"
     ]
    },
    {
     "name": "stderr",
     "output_type": "stream",
     "text": [
      " 66%|██████▋   | 262/394 [00:23<00:10, 12.15it/s]"
     ]
    },
    {
     "name": "stdout",
     "output_type": "stream",
     "text": [
      "Actual class: Piano, Predicted class: Other\n",
      "Actual class: Piano, Predicted class: Other\n",
      "Actual class: Piano, Predicted class: Other\n"
     ]
    },
    {
     "name": "stderr",
     "output_type": "stream",
     "text": [
      " 67%|██████▋   | 264/394 [00:24<00:10, 12.04it/s]"
     ]
    },
    {
     "name": "stdout",
     "output_type": "stream",
     "text": [
      "Actual class: Piano, Predicted class: Other\n",
      "Actual class: Piano, Predicted class: Other\n",
      "Actual class: Piano, Predicted class: Other\n"
     ]
    },
    {
     "name": "stderr",
     "output_type": "stream",
     "text": [
      " 68%|██████▊   | 268/394 [00:24<00:10, 12.45it/s]"
     ]
    },
    {
     "name": "stdout",
     "output_type": "stream",
     "text": [
      "Actual class: Piano, Predicted class: Other\n",
      "Actual class: Piano, Predicted class: Other\n",
      "Actual class: Piano, Predicted class: Other\n"
     ]
    },
    {
     "name": "stderr",
     "output_type": "stream",
     "text": [
      " 69%|██████▊   | 270/394 [00:24<00:09, 12.48it/s]"
     ]
    },
    {
     "name": "stdout",
     "output_type": "stream",
     "text": [
      "Actual class: Piano, Predicted class: Other\n",
      "Actual class: Piano, Predicted class: Other\n",
      "Actual class: Piano, Predicted class: Other\n"
     ]
    },
    {
     "name": "stderr",
     "output_type": "stream",
     "text": [
      " 70%|██████▉   | 274/394 [00:24<00:09, 12.62it/s]"
     ]
    },
    {
     "name": "stdout",
     "output_type": "stream",
     "text": [
      "Actual class: Piano, Predicted class: Other\n",
      "Actual class: Piano, Predicted class: Other\n",
      "Actual class: Piano, Predicted class: Other\n"
     ]
    },
    {
     "name": "stderr",
     "output_type": "stream",
     "text": [
      " 70%|███████   | 276/394 [00:24<00:09, 12.59it/s]"
     ]
    },
    {
     "name": "stdout",
     "output_type": "stream",
     "text": [
      "Actual class: Piano, Predicted class: Other\n",
      "Actual class: Piano, Predicted class: Other\n",
      "Actual class: Piano, Predicted class: Other\n"
     ]
    },
    {
     "name": "stderr",
     "output_type": "stream",
     "text": [
      " 71%|███████   | 280/394 [00:25<00:09, 12.22it/s]"
     ]
    },
    {
     "name": "stdout",
     "output_type": "stream",
     "text": [
      "Actual class: Piano, Predicted class: Other\n",
      "Actual class: Piano, Predicted class: Other\n",
      "Actual class: Piano, Predicted class: Other\n"
     ]
    },
    {
     "name": "stderr",
     "output_type": "stream",
     "text": [
      " 72%|███████▏  | 282/394 [00:25<00:09, 12.24it/s]"
     ]
    },
    {
     "name": "stdout",
     "output_type": "stream",
     "text": [
      "Actual class: Piano, Predicted class: Other\n",
      "Actual class: Piano, Predicted class: Other\n",
      "Actual class: Piano, Predicted class: Other\n"
     ]
    },
    {
     "name": "stderr",
     "output_type": "stream",
     "text": [
      " 73%|███████▎  | 286/394 [00:25<00:08, 12.57it/s]"
     ]
    },
    {
     "name": "stdout",
     "output_type": "stream",
     "text": [
      "Actual class: Piano, Predicted class: Other\n",
      "Actual class: Piano, Predicted class: Other\n",
      "Actual class: Piano, Predicted class: Other\n"
     ]
    },
    {
     "name": "stderr",
     "output_type": "stream",
     "text": [
      " 73%|███████▎  | 288/394 [00:25<00:08, 12.49it/s]"
     ]
    },
    {
     "name": "stdout",
     "output_type": "stream",
     "text": [
      "Actual class: Piano, Predicted class: Other\n",
      "Actual class: Piano, Predicted class: Other\n",
      "Actual class: Piano, Predicted class: Other\n"
     ]
    },
    {
     "name": "stderr",
     "output_type": "stream",
     "text": [
      " 74%|███████▍  | 292/394 [00:26<00:08, 11.95it/s]"
     ]
    },
    {
     "name": "stdout",
     "output_type": "stream",
     "text": [
      "Actual class: Piano, Predicted class: Other\n",
      "Actual class: Piano, Predicted class: Other\n",
      "Actual class: Piano, Predicted class: Other\n"
     ]
    },
    {
     "name": "stderr",
     "output_type": "stream",
     "text": [
      " 75%|███████▍  | 294/394 [00:26<00:08, 11.91it/s]"
     ]
    },
    {
     "name": "stdout",
     "output_type": "stream",
     "text": [
      "Actual class: Piano, Predicted class: Piano\n",
      "Actual class: Piano, Predicted class: Piano\n",
      "Actual class: Piano, Predicted class: Other\n"
     ]
    },
    {
     "name": "stderr",
     "output_type": "stream",
     "text": [
      " 76%|███████▌  | 298/394 [00:26<00:08, 11.61it/s]"
     ]
    },
    {
     "name": "stdout",
     "output_type": "stream",
     "text": [
      "Actual class: Piano, Predicted class: Other\n",
      "Actual class: Piano, Predicted class: Other\n",
      "Actual class: Piano, Predicted class: Piano\n"
     ]
    },
    {
     "name": "stderr",
     "output_type": "stream",
     "text": [
      " 76%|███████▌  | 300/394 [00:26<00:07, 11.94it/s]"
     ]
    },
    {
     "name": "stdout",
     "output_type": "stream",
     "text": [
      "Actual class: Piano, Predicted class: Other\n",
      "Actual class: Piano, Predicted class: Piano\n",
      "Actual class: Piano, Predicted class: Other\n"
     ]
    },
    {
     "name": "stderr",
     "output_type": "stream",
     "text": [
      " 77%|███████▋  | 304/394 [00:27<00:07, 12.07it/s]"
     ]
    },
    {
     "name": "stdout",
     "output_type": "stream",
     "text": [
      "Actual class: Piano, Predicted class: Other\n",
      "Actual class: Piano, Predicted class: Piano\n",
      "Actual class: Piano, Predicted class: Other\n"
     ]
    },
    {
     "name": "stderr",
     "output_type": "stream",
     "text": [
      " 78%|███████▊  | 306/394 [00:27<00:07, 12.32it/s]"
     ]
    },
    {
     "name": "stdout",
     "output_type": "stream",
     "text": [
      "Actual class: Piano, Predicted class: Other\n",
      "Actual class: Piano, Predicted class: Piano\n",
      "Actual class: Piano, Predicted class: Piano\n"
     ]
    },
    {
     "name": "stderr",
     "output_type": "stream",
     "text": [
      " 79%|███████▊  | 310/394 [00:27<00:06, 12.64it/s]"
     ]
    },
    {
     "name": "stdout",
     "output_type": "stream",
     "text": [
      "Actual class: Piano, Predicted class: Piano\n",
      "Actual class: Piano, Predicted class: Other\n",
      "Actual class: Piano, Predicted class: Piano\n"
     ]
    },
    {
     "name": "stderr",
     "output_type": "stream",
     "text": [
      " 79%|███████▉  | 312/394 [00:27<00:06, 12.37it/s]"
     ]
    },
    {
     "name": "stdout",
     "output_type": "stream",
     "text": [
      "Actual class: Piano, Predicted class: Other\n",
      "Actual class: Piano, Predicted class: Other\n",
      "Actual class: Piano, Predicted class: Other\n"
     ]
    },
    {
     "name": "stderr",
     "output_type": "stream",
     "text": [
      " 80%|████████  | 316/394 [00:28<00:06, 12.18it/s]"
     ]
    },
    {
     "name": "stdout",
     "output_type": "stream",
     "text": [
      "Actual class: Piano, Predicted class: Other\n",
      "Actual class: Piano, Predicted class: Other\n",
      "Actual class: Piano, Predicted class: Other\n"
     ]
    },
    {
     "name": "stderr",
     "output_type": "stream",
     "text": [
      " 81%|████████  | 318/394 [00:28<00:06, 12.50it/s]"
     ]
    },
    {
     "name": "stdout",
     "output_type": "stream",
     "text": [
      "Actual class: Piano, Predicted class: Other\n",
      "Actual class: Piano, Predicted class: Piano\n",
      "Actual class: Piano, Predicted class: Other\n"
     ]
    },
    {
     "name": "stderr",
     "output_type": "stream",
     "text": [
      " 82%|████████▏ | 322/394 [00:28<00:05, 12.32it/s]"
     ]
    },
    {
     "name": "stdout",
     "output_type": "stream",
     "text": [
      "Actual class: Piano, Predicted class: Piano\n",
      "Actual class: Piano, Predicted class: Other\n",
      "Actual class: Piano, Predicted class: Other\n"
     ]
    },
    {
     "name": "stderr",
     "output_type": "stream",
     "text": [
      " 82%|████████▏ | 324/394 [00:28<00:05, 12.51it/s]"
     ]
    },
    {
     "name": "stdout",
     "output_type": "stream",
     "text": [
      "Actual class: Piano, Predicted class: Other\n",
      "Actual class: Piano, Predicted class: Other\n",
      "Actual class: Piano, Predicted class: Other\n"
     ]
    },
    {
     "name": "stderr",
     "output_type": "stream",
     "text": [
      " 83%|████████▎ | 328/394 [00:29<00:05, 12.26it/s]"
     ]
    },
    {
     "name": "stdout",
     "output_type": "stream",
     "text": [
      "Actual class: Piano, Predicted class: Other\n",
      "Actual class: Piano, Predicted class: Other\n",
      "Actual class: Piano, Predicted class: Other\n"
     ]
    },
    {
     "name": "stderr",
     "output_type": "stream",
     "text": [
      " 84%|████████▍ | 330/394 [00:29<00:05, 12.62it/s]"
     ]
    },
    {
     "name": "stdout",
     "output_type": "stream",
     "text": [
      "Actual class: Piano, Predicted class: Piano\n",
      "Actual class: Piano, Predicted class: Other\n",
      "Actual class: Piano, Predicted class: Other\n"
     ]
    },
    {
     "name": "stderr",
     "output_type": "stream",
     "text": [
      " 85%|████████▍ | 334/394 [00:29<00:04, 12.50it/s]"
     ]
    },
    {
     "name": "stdout",
     "output_type": "stream",
     "text": [
      "Actual class: Piano, Predicted class: Other\n",
      "Actual class: Piano, Predicted class: Other\n",
      "Actual class: Piano, Predicted class: Other\n"
     ]
    },
    {
     "name": "stderr",
     "output_type": "stream",
     "text": [
      " 85%|████████▌ | 336/394 [00:29<00:04, 12.75it/s]"
     ]
    },
    {
     "name": "stdout",
     "output_type": "stream",
     "text": [
      "Actual class: Piano, Predicted class: Other\n",
      "Actual class: Piano, Predicted class: Other\n",
      "Actual class: Piano, Predicted class: Other\n"
     ]
    },
    {
     "name": "stderr",
     "output_type": "stream",
     "text": [
      " 86%|████████▋ | 340/394 [00:30<00:04, 12.53it/s]"
     ]
    },
    {
     "name": "stdout",
     "output_type": "stream",
     "text": [
      "Actual class: Piano, Predicted class: Other\n",
      "Actual class: Piano, Predicted class: Other\n",
      "Actual class: Piano, Predicted class: Piano\n"
     ]
    },
    {
     "name": "stderr",
     "output_type": "stream",
     "text": [
      " 87%|████████▋ | 342/394 [00:30<00:04, 12.52it/s]"
     ]
    },
    {
     "name": "stdout",
     "output_type": "stream",
     "text": [
      "Actual class: Piano, Predicted class: Other\n",
      "Actual class: Piano, Predicted class: Other\n",
      "Actual class: Piano, Predicted class: Other\n"
     ]
    },
    {
     "name": "stderr",
     "output_type": "stream",
     "text": [
      " 88%|████████▊ | 346/394 [00:30<00:03, 12.78it/s]"
     ]
    },
    {
     "name": "stdout",
     "output_type": "stream",
     "text": [
      "Actual class: Piano, Predicted class: Other\n",
      "Actual class: Piano, Predicted class: Other\n",
      "Actual class: Piano, Predicted class: Other\n"
     ]
    },
    {
     "name": "stderr",
     "output_type": "stream",
     "text": [
      " 88%|████████▊ | 348/394 [00:30<00:03, 13.09it/s]"
     ]
    },
    {
     "name": "stdout",
     "output_type": "stream",
     "text": [
      "Actual class: Piano, Predicted class: Other\n",
      "Actual class: Piano, Predicted class: Other\n",
      "Actual class: Piano, Predicted class: Other\n"
     ]
    },
    {
     "name": "stderr",
     "output_type": "stream",
     "text": [
      " 89%|████████▉ | 352/394 [00:31<00:03, 12.96it/s]"
     ]
    },
    {
     "name": "stdout",
     "output_type": "stream",
     "text": [
      "Actual class: Piano, Predicted class: Other\n",
      "Actual class: Piano, Predicted class: Piano\n",
      "Actual class: Piano, Predicted class: Other\n"
     ]
    },
    {
     "name": "stderr",
     "output_type": "stream",
     "text": [
      " 90%|████████▉ | 354/394 [00:31<00:03, 13.12it/s]"
     ]
    },
    {
     "name": "stdout",
     "output_type": "stream",
     "text": [
      "Actual class: Piano, Predicted class: Other\n",
      "Actual class: Piano, Predicted class: Other\n",
      "Actual class: Piano, Predicted class: Other\n"
     ]
    },
    {
     "name": "stderr",
     "output_type": "stream",
     "text": [
      " 91%|█████████ | 358/394 [00:31<00:02, 12.05it/s]"
     ]
    },
    {
     "name": "stdout",
     "output_type": "stream",
     "text": [
      "Actual class: Piano, Predicted class: Other\n",
      "Actual class: Piano, Predicted class: Other\n",
      "Actual class: Piano, Predicted class: Other\n"
     ]
    },
    {
     "name": "stderr",
     "output_type": "stream",
     "text": [
      " 91%|█████████▏| 360/394 [00:31<00:02, 11.79it/s]"
     ]
    },
    {
     "name": "stdout",
     "output_type": "stream",
     "text": [
      "Actual class: Piano, Predicted class: Other\n",
      "Actual class: Piano, Predicted class: Piano\n",
      "Actual class: Piano, Predicted class: Other\n"
     ]
    },
    {
     "name": "stderr",
     "output_type": "stream",
     "text": [
      " 92%|█████████▏| 364/394 [00:32<00:02, 11.71it/s]"
     ]
    },
    {
     "name": "stdout",
     "output_type": "stream",
     "text": [
      "Actual class: Piano, Predicted class: Piano\n",
      "Actual class: Piano, Predicted class: Other\n",
      "Actual class: Piano, Predicted class: Other\n"
     ]
    },
    {
     "name": "stderr",
     "output_type": "stream",
     "text": [
      " 93%|█████████▎| 366/394 [00:32<00:02, 11.42it/s]"
     ]
    },
    {
     "name": "stdout",
     "output_type": "stream",
     "text": [
      "Actual class: Piano, Predicted class: Other\n",
      "Actual class: Piano, Predicted class: Other\n",
      "Actual class: Piano, Predicted class: Other\n"
     ]
    },
    {
     "name": "stderr",
     "output_type": "stream",
     "text": [
      " 94%|█████████▍| 370/394 [00:32<00:02, 11.33it/s]"
     ]
    },
    {
     "name": "stdout",
     "output_type": "stream",
     "text": [
      "Actual class: Piano, Predicted class: Other\n",
      "Actual class: Piano, Predicted class: Other\n",
      "Actual class: Piano, Predicted class: Other\n"
     ]
    },
    {
     "name": "stderr",
     "output_type": "stream",
     "text": [
      " 94%|█████████▍| 372/394 [00:32<00:01, 11.60it/s]"
     ]
    },
    {
     "name": "stdout",
     "output_type": "stream",
     "text": [
      "Actual class: Piano, Predicted class: Other\n",
      "Actual class: Piano, Predicted class: Other\n",
      "Actual class: Piano, Predicted class: Piano\n"
     ]
    },
    {
     "name": "stderr",
     "output_type": "stream",
     "text": [
      " 95%|█████████▌| 376/394 [00:33<00:01, 11.97it/s]"
     ]
    },
    {
     "name": "stdout",
     "output_type": "stream",
     "text": [
      "Actual class: Piano, Predicted class: Other\n",
      "Actual class: Piano, Predicted class: Other\n",
      "Actual class: Piano, Predicted class: Other\n"
     ]
    },
    {
     "name": "stderr",
     "output_type": "stream",
     "text": [
      " 96%|█████████▌| 378/394 [00:33<00:01, 12.15it/s]"
     ]
    },
    {
     "name": "stdout",
     "output_type": "stream",
     "text": [
      "Actual class: Piano, Predicted class: Other\n",
      "Actual class: Piano, Predicted class: Other\n",
      "Actual class: Piano, Predicted class: Other\n"
     ]
    },
    {
     "name": "stderr",
     "output_type": "stream",
     "text": [
      " 96%|█████████▋| 380/394 [00:33<00:01, 12.29it/s]"
     ]
    },
    {
     "name": "stdout",
     "output_type": "stream",
     "text": [
      "Actual class: Piano, Predicted class: Other\n",
      "Actual class: Piano, Predicted class: Other\n"
     ]
    },
    {
     "name": "stderr",
     "output_type": "stream",
     "text": [
      " 97%|█████████▋| 384/394 [00:33<00:00, 11.60it/s]"
     ]
    },
    {
     "name": "stdout",
     "output_type": "stream",
     "text": [
      "Actual class: Piano, Predicted class: Other\n",
      "Actual class: Piano, Predicted class: Other\n",
      "Actual class: Piano, Predicted class: Piano\n"
     ]
    },
    {
     "name": "stderr",
     "output_type": "stream",
     "text": [
      " 98%|█████████▊| 386/394 [00:34<00:00, 11.79it/s]"
     ]
    },
    {
     "name": "stdout",
     "output_type": "stream",
     "text": [
      "Actual class: Piano, Predicted class: Piano\n",
      "Actual class: Piano, Predicted class: Other\n",
      "Actual class: Piano, Predicted class: Other\n"
     ]
    },
    {
     "name": "stderr",
     "output_type": "stream",
     "text": [
      " 99%|█████████▉| 390/394 [00:34<00:00, 12.08it/s]"
     ]
    },
    {
     "name": "stdout",
     "output_type": "stream",
     "text": [
      "Actual class: Piano, Predicted class: Other\n",
      "Actual class: Piano, Predicted class: Other\n",
      "Actual class: Piano, Predicted class: Other\n"
     ]
    },
    {
     "name": "stderr",
     "output_type": "stream",
     "text": [
      " 99%|█████████▉| 392/394 [00:34<00:00, 12.40it/s]"
     ]
    },
    {
     "name": "stdout",
     "output_type": "stream",
     "text": [
      "Actual class: Piano, Predicted class: Other\n",
      "Actual class: Piano, Predicted class: Other\n",
      "Actual class: Piano, Predicted class: Other\n"
     ]
    },
    {
     "name": "stderr",
     "output_type": "stream",
     "text": [
      "100%|██████████| 394/394 [00:34<00:00, 11.37it/s]"
     ]
    },
    {
     "name": "stdout",
     "output_type": "stream",
     "text": [
      "Actual class: Piano, Predicted class: Other\n"
     ]
    },
    {
     "name": "stderr",
     "output_type": "stream",
     "text": [
      "\n"
     ]
    }
   ],
   "source": [
    "if __name__ == '__main__':\n",
    "\n",
    "    parser = argparse.ArgumentParser(description='Audio Classification Training')\n",
    "    parser.add_argument('--model_fn', type=str, default='models/lstm.h5',\n",
    "                        help='model file to make predictions')\n",
    "    parser.add_argument('--pred_fn', type=str, default='y_pred',\n",
    "                        help='fn to write predictions in logs dir')\n",
    "    parser.add_argument('--src_dir', type=str, default='test',\n",
    "                        help='directory containing wavfiles to predict')\n",
    "    parser.add_argument('--dt', type=float, default=1.0,\n",
    "                        help='time in seconds to sample audio')\n",
    "    parser.add_argument('--sr', type=int, default=16000,\n",
    "                        help='sample rate of clean audio')\n",
    "    parser.add_argument('--threshold', type=str, default=20,\n",
    "                        help='threshold magnitude for np.int16 dtype')\n",
    "    args, _ = parser.parse_known_args()\n",
    "    print(args)\n",
    "    make_prediction(args)"
   ]
  }
 ],
 "metadata": {
  "kernelspec": {
   "display_name": "Python 3",
   "language": "python",
   "name": "python3"
  },
  "language_info": {
   "codemirror_mode": {
    "name": "ipython",
    "version": 3
   },
   "file_extension": ".py",
   "mimetype": "text/x-python",
   "name": "python",
   "nbconvert_exporter": "python",
   "pygments_lexer": "ipython3",
   "version": "3.9.3"
  }
 },
 "nbformat": 4,
 "nbformat_minor": 5
}
