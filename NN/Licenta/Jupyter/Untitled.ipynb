{
 "cells": [
  {
   "cell_type": "code",
   "execution_count": 1,
   "metadata": {},
   "outputs": [
    {
     "name": "stderr",
     "output_type": "stream",
     "text": [
      "/home/andy/.local/lib/python3.6/site-packages/numba/core/errors.py:154: UserWarning: Insufficiently recent colorama version found. Numba requires colorama >= 0.3.9\n",
      "  warnings.warn(msg)\n"
     ]
    }
   ],
   "source": [
    "from tensorflow.keras.models import load_model\n",
    "from kapre.time_frequency import STFT, Magnitude, ApplyFilterbank, MagnitudeToDecibel\n",
    "from sklearn.preprocessing import LabelEncoder\n",
    "import numpy as np\n",
    "from clean import envelope,downsample_mono\n",
    "from glob import glob\n",
    "import argparse\n",
    "import wavio\n",
    "import os\n",
    "import pandas as pd\n",
    "from tqdm import tqdm"
   ]
  },
  {
   "cell_type": "code",
   "execution_count": 2,
   "metadata": {},
   "outputs": [
    {
     "name": "stdout",
     "output_type": "stream",
     "text": [
      "/home/andy/NN/Licenta\n"
     ]
    }
   ],
   "source": [
    "print(os.getcwd())"
   ]
  },
  {
   "cell_type": "code",
   "execution_count": 3,
   "metadata": {},
   "outputs": [],
   "source": [
    "def make_prediction(args):\n",
    "\n",
    "    model = load_model(args.model_fn,\n",
    "        custom_objects={'STFT':STFT,\n",
    "                        'Magnitude':Magnitude,\n",
    "                        'ApplyFilterbank':ApplyFilterbank,\n",
    "                        'MagnitudeToDecibel':MagnitudeToDecibel})\n",
    "    wav_paths = glob('{}/**'.format(args.src_dir), recursive=True)\n",
    "    wav_paths = sorted([x.replace(os.sep, '/') for x in wav_paths if '.wav' in x])\n",
    "    classes = ['Other','Piano']\n",
    "    labels = [os.path.split(x)[0].split('/')[-1] for x in wav_paths]\n",
    "    le = LabelEncoder()\n",
    "    y_true = le.fit_transform(labels)\n",
    "    results = []\n",
    "\n",
    "    for z, wav_fn in tqdm(enumerate(wav_paths), total=len(wav_paths)):\n",
    "        rate, wav = downsample_mono(wav_fn, args.sr)\n",
    "        mask, env = envelope(wav, rate, threshold=args.threshold)\n",
    "        clean_wav = wav[mask]\n",
    "        step = int(args.sr*args.dt)\n",
    "        batch = []\n",
    "\n",
    "        for i in range(0, clean_wav.shape[0], step):\n",
    "            sample = clean_wav[i:i+step]\n",
    "            sample = sample.reshape(-1, 1)\n",
    "            if sample.shape[0] < step:\n",
    "                tmp = np.zeros(shape=(step, 1), dtype=np.float32)\n",
    "                tmp[:sample.shape[0],:] = sample.flatten().reshape(-1, 1)\n",
    "                sample = tmp\n",
    "            batch.append(sample)\n",
    "        X_batch = np.array(batch, dtype=np.float32)\n",
    "        y_pred = model.predict(X_batch)\n",
    "        y_mean = np.mean(y_pred, axis=0)\n",
    "        y_pred = np.argmax(y_mean)\n",
    "        real_class = os.path.dirname(wav_fn).split('/')[-1]\n",
    "        print('Actual class: {}, Predicted class: {}'.format(real_class, classes[y_pred]))\n",
    "        results.append(y_mean)\n",
    "\n",
    "    np.save(os.path.join('logs', args.pred_fn), np.array(results))"
   ]
  },
  {
   "cell_type": "code",
   "execution_count": 4,
   "metadata": {},
   "outputs": [
    {
     "name": "stdout",
     "output_type": "stream",
     "text": [
      "Namespace(dt=1.0, model_fn='models/cnn.h5', pred_fn='y_pred', sr=16000, src_dir='./test/Piano', threshold=50)\n"
     ]
    },
    {
     "name": "stderr",
     "output_type": "stream",
     "text": [
      " 33%|███▎      | 1/3 [00:05<00:11,  5.91s/it]"
     ]
    },
    {
     "name": "stdout",
     "output_type": "stream",
     "text": [
      "Actual class: Piano, Predicted class: Piano\n"
     ]
    },
    {
     "name": "stderr",
     "output_type": "stream",
     "text": [
      " 67%|██████▋   | 2/3 [00:24<00:13, 13.37s/it]"
     ]
    },
    {
     "name": "stdout",
     "output_type": "stream",
     "text": [
      "Actual class: Piano, Predicted class: Piano\n"
     ]
    },
    {
     "name": "stderr",
     "output_type": "stream",
     "text": [
      "100%|██████████| 3/3 [00:34<00:00, 11.49s/it]"
     ]
    },
    {
     "name": "stdout",
     "output_type": "stream",
     "text": [
      "Actual class: Piano, Predicted class: Other\n"
     ]
    },
    {
     "name": "stderr",
     "output_type": "stream",
     "text": [
      "\n"
     ]
    }
   ],
   "source": [
    "if __name__ == '__main__':\n",
    "\n",
    "    parser = argparse.ArgumentParser(description='Audio Classification Training')\n",
    "    parser.add_argument('--model_fn', type=str, default='models/cnn.h5',\n",
    "                        help='model file to make predictions')\n",
    "    parser.add_argument('--pred_fn', type=str, default='y_pred',\n",
    "                        help='fn to write predictions in logs dir')\n",
    "    parser.add_argument('--src_dir', type=str, default='./test/Piano',\n",
    "                        help='directory containing wavfiles to predict')\n",
    "    parser.add_argument('--dt', type=float, default=1.0,\n",
    "                        help='time in seconds to sample audio')\n",
    "    parser.add_argument('--sr', type=int, default=16000,\n",
    "                        help='sample rate of clean audio')\n",
    "    parser.add_argument('--threshold', type=str, default=50,\n",
    "                        help='threshold magnitude for np.int16 dtype')\n",
    "    args, _ = parser.parse_known_args()\n",
    "    print(args)\n",
    "    make_prediction(args)"
   ]
  },
  {
   "cell_type": "code",
   "execution_count": 5,
   "metadata": {},
   "outputs": [
    {
     "name": "stdout",
     "output_type": "stream",
     "text": [
      "['Edith Piaf - Non, Je ne regrette rien - EASY Piano Tutorial by PlutaX.wav', \"GUNS N' ROSES - NOVEMBER RAIN - Piano Tutorial.wav\", 'Great White - The Angel Song.wav']\n"
     ]
    }
   ],
   "source": [
    "print(os.listdir(args.src_dir))"
   ]
  }
 ],
 "metadata": {
  "kernelspec": {
   "display_name": "Python 3",
   "language": "python",
   "name": "python3"
  },
  "language_info": {
   "codemirror_mode": {
    "name": "ipython",
    "version": 3
   },
   "file_extension": ".py",
   "mimetype": "text/x-python",
   "name": "python",
   "nbconvert_exporter": "python",
   "pygments_lexer": "ipython3",
   "version": "3.6.8"
  }
 },
 "nbformat": 4,
 "nbformat_minor": 5
}
